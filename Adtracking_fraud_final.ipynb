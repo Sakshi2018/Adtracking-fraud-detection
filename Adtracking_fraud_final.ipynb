{
 "cells": [
  {
   "cell_type": "code",
   "execution_count": 2,
   "metadata": {
    "_cell_guid": "b1076dfc-b9ad-4769-8c92-a6c4dae69d19",
    "_uuid": "8f2839f25d086af736a60e9eeb907d3b93b6e0e5"
   },
   "outputs": [
    {
     "name": "stdout",
     "output_type": "stream",
     "text": [
      "/kaggle/input/talkingdata-adtracking-fraud-detection/train_sample.csv\n",
      "/kaggle/input/talkingdata-adtracking-fraud-detection/sample_submission.csv\n",
      "/kaggle/input/talkingdata-adtracking-fraud-detection/test.csv\n",
      "/kaggle/input/talkingdata-adtracking-fraud-detection/test_supplement.csv\n",
      "/kaggle/input/talkingdata-adtracking-fraud-detection/train.csv\n"
     ]
    }
   ],
   "source": [
    "# This Python 3 environment comes with many helpful analytics libraries installed\n",
    "# It is defined by the kaggle/python docker image: https://github.com/kaggle/docker-python\n",
    "# For example, here's several helpful packages to load in \n",
    "\n",
    "import numpy as np # linear algebra\n",
    "import pandas as pd # data processing, CSV file I/O (e.g. pd.read_csv)\n",
    "\n",
    "# Input data files are available in the \"../input/\" directory.\n",
    "# For example, running this (by clicking run or pressing Shift+Enter) will list all files under the input directory\n",
    "\n",
    "import os\n",
    "for dirname, _, filenames in os.walk('/kaggle/input'):\n",
    "    for filename in filenames:\n",
    "        print(os.path.join(dirname, filename))\n",
    "\n",
    "# Any results you write to the current directory are saved as output."
   ]
  },
  {
   "cell_type": "code",
   "execution_count": 3,
   "metadata": {},
   "outputs": [
    {
     "name": "stdout",
     "output_type": "stream",
     "text": [
      "# Line count:\n",
      "184903891 /kaggle/input/talkingdata-adtracking-fraud-detection/train.csv\n",
      "18790470 /kaggle/input/talkingdata-adtracking-fraud-detection/test.csv\n",
      "100001 /kaggle/input/talkingdata-adtracking-fraud-detection/train_sample.csv\n"
     ]
    }
   ],
   "source": [
    "import subprocess\n",
    "print('# Line count:')\n",
    "for file in ['train.csv', 'test.csv', 'train_sample.csv']:\n",
    "    lines = subprocess.run(['wc', '-l', '/kaggle/input/talkingdata-adtracking-fraud-detection/{}'.format(file)], stdout=subprocess.PIPE).stdout.decode('utf-8')\n",
    "    print(lines, end='', flush=True)"
   ]
  },
  {
   "cell_type": "code",
   "execution_count": 4,
   "metadata": {},
   "outputs": [],
   "source": [
    "import pandas as pd\n",
    "import numpy as np\n",
    "import warnings\n",
    "warnings.filterwarnings('ignore')\n",
    "import seaborn as sns\n",
    "import matplotlib.pyplot as plt\n",
    "%matplotlib inline\n",
    "pal = sns.color_palette()"
   ]
  },
  {
   "cell_type": "code",
   "execution_count": 5,
   "metadata": {},
   "outputs": [],
   "source": [
    "path = '/kaggle/input/talkingdata-adtracking-fraud-detection/'"
   ]
  },
  {
   "cell_type": "code",
   "execution_count": 6,
   "metadata": {},
   "outputs": [],
   "source": [
    "dtypes = {\n",
    "        'ip'            : 'uint32',\n",
    "        'app'           : 'uint16',\n",
    "        'device'        : 'uint16',\n",
    "        'os'            : 'uint16',\n",
    "        'channel'       : 'uint16',\n",
    "        'is_attributed' : 'uint8',\n",
    "        'click_id'      : 'uint32'\n",
    "        }"
   ]
  },
  {
   "cell_type": "code",
   "execution_count": 7,
   "metadata": {},
   "outputs": [],
   "source": [
    "train_sample_df = pd.read_csv(path+\"train_sample.csv\", dtype=dtypes, usecols=['ip','app','device','os', 'channel', 'click_time', 'is_attributed'], parse_dates=['click_time'])"
   ]
  },
  {
   "cell_type": "code",
   "execution_count": 8,
   "metadata": {},
   "outputs": [
    {
     "data": {
      "text/html": [
       "<div>\n",
       "<style scoped>\n",
       "    .dataframe tbody tr th:only-of-type {\n",
       "        vertical-align: middle;\n",
       "    }\n",
       "\n",
       "    .dataframe tbody tr th {\n",
       "        vertical-align: top;\n",
       "    }\n",
       "\n",
       "    .dataframe thead th {\n",
       "        text-align: right;\n",
       "    }\n",
       "</style>\n",
       "<table border=\"1\" class=\"dataframe\">\n",
       "  <thead>\n",
       "    <tr style=\"text-align: right;\">\n",
       "      <th></th>\n",
       "      <th>ip</th>\n",
       "      <th>app</th>\n",
       "      <th>device</th>\n",
       "      <th>os</th>\n",
       "      <th>channel</th>\n",
       "      <th>click_time</th>\n",
       "      <th>is_attributed</th>\n",
       "    </tr>\n",
       "  </thead>\n",
       "  <tbody>\n",
       "    <tr>\n",
       "      <th>0</th>\n",
       "      <td>29540</td>\n",
       "      <td>3</td>\n",
       "      <td>1</td>\n",
       "      <td>42</td>\n",
       "      <td>489</td>\n",
       "      <td>2017-11-08 03:57:46</td>\n",
       "      <td>0</td>\n",
       "    </tr>\n",
       "    <tr>\n",
       "      <th>1</th>\n",
       "      <td>26777</td>\n",
       "      <td>11</td>\n",
       "      <td>1</td>\n",
       "      <td>25</td>\n",
       "      <td>319</td>\n",
       "      <td>2017-11-09 11:02:14</td>\n",
       "      <td>0</td>\n",
       "    </tr>\n",
       "    <tr>\n",
       "      <th>2</th>\n",
       "      <td>140926</td>\n",
       "      <td>12</td>\n",
       "      <td>1</td>\n",
       "      <td>13</td>\n",
       "      <td>140</td>\n",
       "      <td>2017-11-07 04:36:14</td>\n",
       "      <td>0</td>\n",
       "    </tr>\n",
       "    <tr>\n",
       "      <th>3</th>\n",
       "      <td>69375</td>\n",
       "      <td>2</td>\n",
       "      <td>1</td>\n",
       "      <td>19</td>\n",
       "      <td>377</td>\n",
       "      <td>2017-11-09 13:17:20</td>\n",
       "      <td>0</td>\n",
       "    </tr>\n",
       "    <tr>\n",
       "      <th>4</th>\n",
       "      <td>119166</td>\n",
       "      <td>9</td>\n",
       "      <td>2</td>\n",
       "      <td>15</td>\n",
       "      <td>445</td>\n",
       "      <td>2017-11-07 12:11:37</td>\n",
       "      <td>0</td>\n",
       "    </tr>\n",
       "  </tbody>\n",
       "</table>\n",
       "</div>"
      ],
      "text/plain": [
       "       ip  app  device  os  channel          click_time  is_attributed\n",
       "0   29540    3       1  42      489 2017-11-08 03:57:46              0\n",
       "1   26777   11       1  25      319 2017-11-09 11:02:14              0\n",
       "2  140926   12       1  13      140 2017-11-07 04:36:14              0\n",
       "3   69375    2       1  19      377 2017-11-09 13:17:20              0\n",
       "4  119166    9       2  15      445 2017-11-07 12:11:37              0"
      ]
     },
     "execution_count": 8,
     "metadata": {},
     "output_type": "execute_result"
    }
   ],
   "source": [
    "train_sample_df.head()"
   ]
  },
  {
   "cell_type": "code",
   "execution_count": 9,
   "metadata": {},
   "outputs": [
    {
     "name": "stdout",
     "output_type": "stream",
     "text": [
      "<class 'pandas.core.frame.DataFrame'>\n",
      "RangeIndex: 100000 entries, 0 to 99999\n",
      "Data columns (total 7 columns):\n",
      "ip               100000 non-null uint32\n",
      "app              100000 non-null uint16\n",
      "device           100000 non-null uint16\n",
      "os               100000 non-null uint16\n",
      "channel          100000 non-null uint16\n",
      "click_time       100000 non-null datetime64[ns]\n",
      "is_attributed    100000 non-null uint8\n",
      "dtypes: datetime64[ns](1), uint16(4), uint32(1), uint8(1)\n",
      "memory usage: 2.0 MB\n"
     ]
    }
   ],
   "source": [
    "train_sample_df.info()"
   ]
  },
  {
   "cell_type": "code",
   "execution_count": 10,
   "metadata": {},
   "outputs": [
    {
     "data": {
      "text/html": [
       "<div>\n",
       "<style scoped>\n",
       "    .dataframe tbody tr th:only-of-type {\n",
       "        vertical-align: middle;\n",
       "    }\n",
       "\n",
       "    .dataframe tbody tr th {\n",
       "        vertical-align: top;\n",
       "    }\n",
       "\n",
       "    .dataframe thead th {\n",
       "        text-align: right;\n",
       "    }\n",
       "</style>\n",
       "<table border=\"1\" class=\"dataframe\">\n",
       "  <thead>\n",
       "    <tr style=\"text-align: right;\">\n",
       "      <th></th>\n",
       "      <th>ip</th>\n",
       "      <th>app</th>\n",
       "      <th>device</th>\n",
       "      <th>os</th>\n",
       "      <th>channel</th>\n",
       "      <th>is_attributed</th>\n",
       "    </tr>\n",
       "  </thead>\n",
       "  <tbody>\n",
       "    <tr>\n",
       "      <th>count</th>\n",
       "      <td>100000.00000</td>\n",
       "      <td>100000.000000</td>\n",
       "      <td>100000.000000</td>\n",
       "      <td>100000.000000</td>\n",
       "      <td>100000.000000</td>\n",
       "      <td>100000.000000</td>\n",
       "    </tr>\n",
       "    <tr>\n",
       "      <th>mean</th>\n",
       "      <td>91091.47618</td>\n",
       "      <td>12.033790</td>\n",
       "      <td>22.390540</td>\n",
       "      <td>22.835020</td>\n",
       "      <td>268.656180</td>\n",
       "      <td>0.002510</td>\n",
       "    </tr>\n",
       "    <tr>\n",
       "      <th>std</th>\n",
       "      <td>69791.74842</td>\n",
       "      <td>14.917195</td>\n",
       "      <td>264.110407</td>\n",
       "      <td>56.829508</td>\n",
       "      <td>129.692927</td>\n",
       "      <td>0.050037</td>\n",
       "    </tr>\n",
       "    <tr>\n",
       "      <th>min</th>\n",
       "      <td>9.00000</td>\n",
       "      <td>0.000000</td>\n",
       "      <td>0.000000</td>\n",
       "      <td>0.000000</td>\n",
       "      <td>3.000000</td>\n",
       "      <td>0.000000</td>\n",
       "    </tr>\n",
       "    <tr>\n",
       "      <th>25%</th>\n",
       "      <td>40315.50000</td>\n",
       "      <td>3.000000</td>\n",
       "      <td>1.000000</td>\n",
       "      <td>13.000000</td>\n",
       "      <td>140.000000</td>\n",
       "      <td>0.000000</td>\n",
       "    </tr>\n",
       "    <tr>\n",
       "      <th>50%</th>\n",
       "      <td>79666.00000</td>\n",
       "      <td>12.000000</td>\n",
       "      <td>1.000000</td>\n",
       "      <td>18.000000</td>\n",
       "      <td>258.000000</td>\n",
       "      <td>0.000000</td>\n",
       "    </tr>\n",
       "    <tr>\n",
       "      <th>75%</th>\n",
       "      <td>118284.00000</td>\n",
       "      <td>15.000000</td>\n",
       "      <td>1.000000</td>\n",
       "      <td>19.000000</td>\n",
       "      <td>379.000000</td>\n",
       "      <td>0.000000</td>\n",
       "    </tr>\n",
       "    <tr>\n",
       "      <th>max</th>\n",
       "      <td>364759.00000</td>\n",
       "      <td>542.000000</td>\n",
       "      <td>3866.000000</td>\n",
       "      <td>866.000000</td>\n",
       "      <td>498.000000</td>\n",
       "      <td>1.000000</td>\n",
       "    </tr>\n",
       "  </tbody>\n",
       "</table>\n",
       "</div>"
      ],
      "text/plain": [
       "                 ip            app         device             os  \\\n",
       "count  100000.00000  100000.000000  100000.000000  100000.000000   \n",
       "mean    91091.47618      12.033790      22.390540      22.835020   \n",
       "std     69791.74842      14.917195     264.110407      56.829508   \n",
       "min         9.00000       0.000000       0.000000       0.000000   \n",
       "25%     40315.50000       3.000000       1.000000      13.000000   \n",
       "50%     79666.00000      12.000000       1.000000      18.000000   \n",
       "75%    118284.00000      15.000000       1.000000      19.000000   \n",
       "max    364759.00000     542.000000    3866.000000     866.000000   \n",
       "\n",
       "             channel  is_attributed  \n",
       "count  100000.000000  100000.000000  \n",
       "mean      268.656180       0.002510  \n",
       "std       129.692927       0.050037  \n",
       "min         3.000000       0.000000  \n",
       "25%       140.000000       0.000000  \n",
       "50%       258.000000       0.000000  \n",
       "75%       379.000000       0.000000  \n",
       "max       498.000000       1.000000  "
      ]
     },
     "execution_count": 10,
     "metadata": {},
     "output_type": "execute_result"
    }
   ],
   "source": [
    "train_sample_df.describe()"
   ]
  },
  {
   "cell_type": "code",
   "execution_count": 11,
   "metadata": {},
   "outputs": [
    {
     "data": {
      "image/png": "[encoded data removed]",
      "text/plain": [
       "<Figure size 1080x576 with 1 Axes>"
      ]
     },
     "metadata": {
      "needs_background": "light"
     },
     "output_type": "display_data"
    }
   ],
   "source": [
    "plt.figure(figsize=(15, 8))\n",
    "cols = ['ip', 'app', 'device', 'os', 'channel']\n",
    "uniques = [len(train_sample_df[col].unique()) for col in cols]\n",
    "sns.set(font_scale=1.2)\n",
    "ax = sns.barplot(cols, uniques, palette=pal, log=True)\n",
    "ax.set(xlabel='Feature', ylabel='unique count', title='Number of unique values per feature')\n",
    "for p, uniq in zip(ax.patches, uniques):\n",
    "    height = p.get_height()\n",
    "    ax.text(p.get_x()+p.get_width()/2.,\n",
    "            height + 10,\n",
    "            uniq,\n",
    "            ha=\"center\")"
   ]
  },
  {
   "cell_type": "code",
   "execution_count": 12,
   "metadata": {},
   "outputs": [
    {
     "data": {
      "text/plain": [
       "[Text(0, 0.5, 'Count of users'),\n",
       " Text(0.5, 1.0, 'Count of users with App Downloaded vs Not Downloaded')]"
      ]
     },
     "execution_count": 12,
     "metadata": {},
     "output_type": "execute_result"
    },
    {
     "data": {
      "image/png": "[encoded data removed]",
      "text/plain": [
       "<Figure size 576x576 with 1 Axes>"
      ]
     },
     "metadata": {},
     "output_type": "display_data"
    }
   ],
   "source": [
    "plt.figure(figsize=(8, 8))\n",
    "sns.set(font_scale=1.2)\n",
    "ax=sns.countplot(train_sample_df['is_attributed']);\n",
    "ax.set(ylabel='Count of users', title='Count of users with App Downloaded vs Not Downloaded')"
   ]
  },
  {
   "cell_type": "code",
   "execution_count": 13,
   "metadata": {},
   "outputs": [
    {
     "data": {
      "image/png": "[encoded data removed]",
      "text/plain": [
       "<Figure size 432x432 with 1 Axes>"
      ]
     },
     "metadata": {},
     "output_type": "display_data"
    }
   ],
   "source": [
    "plt.figure(figsize=(6,6))\n",
    "#sns.set(font_scale=1.2)\n",
    "mean = (train_sample_df.is_attributed.values == 1).mean()\n",
    "ax = sns.barplot(['App Downloaded (1)', 'Not Downloaded (0)'], [mean, 1-mean])\n",
    "ax.set(ylabel='Percentage of users', title='Percentage of usres with App Downloaded vs Not Downloaded')\n",
    "for p, uniq in zip(ax.patches, [mean, 1-mean]):\n",
    "    height = p.get_height()\n",
    "    ax.text(p.get_x()+p.get_width()/2.,\n",
    "            height+0.01,\n",
    "            '{}%'.format(round(uniq * 100, 2)),\n",
    "            ha=\"center\")"
   ]
  },
  {
   "cell_type": "code",
   "execution_count": 14,
   "metadata": {},
   "outputs": [],
   "source": [
    "categorical = ['ip', 'app', 'device', 'os', 'channel']\n",
    "for v in categorical:\n",
    "    train_sample_df[v] = train_sample_df[v].astype('category')"
   ]
  },
  {
   "cell_type": "markdown",
   "metadata": {},
   "source": [
    "Check if the IP's have too many clicks and do those IP's convert"
   ]
  },
  {
   "cell_type": "code",
   "execution_count": 15,
   "metadata": {},
   "outputs": [
    {
     "data": {
      "text/html": [
       "<div>\n",
       "<style scoped>\n",
       "    .dataframe tbody tr th:only-of-type {\n",
       "        vertical-align: middle;\n",
       "    }\n",
       "\n",
       "    .dataframe tbody tr th {\n",
       "        vertical-align: top;\n",
       "    }\n",
       "\n",
       "    .dataframe thead th {\n",
       "        text-align: right;\n",
       "    }\n",
       "</style>\n",
       "<table border=\"1\" class=\"dataframe\">\n",
       "  <thead>\n",
       "    <tr style=\"text-align: right;\">\n",
       "      <th></th>\n",
       "      <th>ip</th>\n",
       "      <th>count_clicks</th>\n",
       "    </tr>\n",
       "  </thead>\n",
       "  <tbody>\n",
       "    <tr>\n",
       "      <th>0</th>\n",
       "      <td>5348</td>\n",
       "      <td>687</td>\n",
       "    </tr>\n",
       "    <tr>\n",
       "      <th>1</th>\n",
       "      <td>5314</td>\n",
       "      <td>640</td>\n",
       "    </tr>\n",
       "    <tr>\n",
       "      <th>2</th>\n",
       "      <td>73487</td>\n",
       "      <td>436</td>\n",
       "    </tr>\n",
       "    <tr>\n",
       "      <th>3</th>\n",
       "      <td>73516</td>\n",
       "      <td>423</td>\n",
       "    </tr>\n",
       "    <tr>\n",
       "      <th>4</th>\n",
       "      <td>53454</td>\n",
       "      <td>249</td>\n",
       "    </tr>\n",
       "    <tr>\n",
       "      <th>5</th>\n",
       "      <td>114276</td>\n",
       "      <td>242</td>\n",
       "    </tr>\n",
       "    <tr>\n",
       "      <th>6</th>\n",
       "      <td>26995</td>\n",
       "      <td>231</td>\n",
       "    </tr>\n",
       "    <tr>\n",
       "      <th>7</th>\n",
       "      <td>95766</td>\n",
       "      <td>202</td>\n",
       "    </tr>\n",
       "    <tr>\n",
       "      <th>8</th>\n",
       "      <td>100275</td>\n",
       "      <td>162</td>\n",
       "    </tr>\n",
       "    <tr>\n",
       "      <th>9</th>\n",
       "      <td>17149</td>\n",
       "      <td>162</td>\n",
       "    </tr>\n",
       "  </tbody>\n",
       "</table>\n",
       "</div>"
      ],
      "text/plain": [
       "       ip  count_clicks\n",
       "0    5348           687\n",
       "1    5314           640\n",
       "2   73487           436\n",
       "3   73516           423\n",
       "4   53454           249\n",
       "5  114276           242\n",
       "6   26995           231\n",
       "7   95766           202\n",
       "8  100275           162\n",
       "9   17149           162"
      ]
     },
     "execution_count": 15,
     "metadata": {},
     "output_type": "execute_result"
    }
   ],
   "source": [
    "#table to see ips with their associated total clicks\n",
    "ip_repeat_df = train_sample_df['ip'].value_counts().reset_index(name='count_clicks')\n",
    "ip_repeat_df.columns = ['ip', 'count_clicks']\n",
    "ip_repeat_df[:10]"
   ]
  },
  {
   "cell_type": "code",
   "execution_count": 16,
   "metadata": {},
   "outputs": [
    {
     "data": {
      "text/html": [
       "<div>\n",
       "<style scoped>\n",
       "    .dataframe tbody tr th:only-of-type {\n",
       "        vertical-align: middle;\n",
       "    }\n",
       "\n",
       "    .dataframe tbody tr th {\n",
       "        vertical-align: top;\n",
       "    }\n",
       "\n",
       "    .dataframe thead th {\n",
       "        text-align: right;\n",
       "    }\n",
       "</style>\n",
       "<table border=\"1\" class=\"dataframe\">\n",
       "  <thead>\n",
       "    <tr style=\"text-align: right;\">\n",
       "      <th></th>\n",
       "      <th>ip</th>\n",
       "      <th>app</th>\n",
       "      <th>device</th>\n",
       "      <th>os</th>\n",
       "      <th>channel</th>\n",
       "      <th>click_time</th>\n",
       "      <th>is_attributed</th>\n",
       "      <th>count_clicks</th>\n",
       "    </tr>\n",
       "  </thead>\n",
       "  <tbody>\n",
       "    <tr>\n",
       "      <th>44349</th>\n",
       "      <td>5314</td>\n",
       "      <td>20</td>\n",
       "      <td>1</td>\n",
       "      <td>27</td>\n",
       "      <td>478</td>\n",
       "      <td>2017-11-08 06:42:28</td>\n",
       "      <td>1</td>\n",
       "      <td>640</td>\n",
       "    </tr>\n",
       "    <tr>\n",
       "      <th>7946</th>\n",
       "      <td>5314</td>\n",
       "      <td>19</td>\n",
       "      <td>0</td>\n",
       "      <td>0</td>\n",
       "      <td>347</td>\n",
       "      <td>2017-11-09 08:11:01</td>\n",
       "      <td>1</td>\n",
       "      <td>640</td>\n",
       "    </tr>\n",
       "    <tr>\n",
       "      <th>96346</th>\n",
       "      <td>5314</td>\n",
       "      <td>19</td>\n",
       "      <td>88</td>\n",
       "      <td>24</td>\n",
       "      <td>213</td>\n",
       "      <td>2017-11-07 22:25:07</td>\n",
       "      <td>1</td>\n",
       "      <td>640</td>\n",
       "    </tr>\n",
       "    <tr>\n",
       "      <th>93796</th>\n",
       "      <td>100275</td>\n",
       "      <td>29</td>\n",
       "      <td>1</td>\n",
       "      <td>15</td>\n",
       "      <td>213</td>\n",
       "      <td>2017-11-07 13:10:17</td>\n",
       "      <td>1</td>\n",
       "      <td>162</td>\n",
       "    </tr>\n",
       "    <tr>\n",
       "      <th>59781</th>\n",
       "      <td>100275</td>\n",
       "      <td>9</td>\n",
       "      <td>1</td>\n",
       "      <td>19</td>\n",
       "      <td>258</td>\n",
       "      <td>2017-11-08 10:38:30</td>\n",
       "      <td>1</td>\n",
       "      <td>162</td>\n",
       "    </tr>\n",
       "    <tr>\n",
       "      <th>56251</th>\n",
       "      <td>123994</td>\n",
       "      <td>9</td>\n",
       "      <td>1</td>\n",
       "      <td>19</td>\n",
       "      <td>244</td>\n",
       "      <td>2017-11-08 18:55:18</td>\n",
       "      <td>1</td>\n",
       "      <td>90</td>\n",
       "    </tr>\n",
       "    <tr>\n",
       "      <th>55450</th>\n",
       "      <td>175837</td>\n",
       "      <td>19</td>\n",
       "      <td>6</td>\n",
       "      <td>29</td>\n",
       "      <td>213</td>\n",
       "      <td>2017-11-08 04:50:46</td>\n",
       "      <td>1</td>\n",
       "      <td>63</td>\n",
       "    </tr>\n",
       "    <tr>\n",
       "      <th>50861</th>\n",
       "      <td>100971</td>\n",
       "      <td>29</td>\n",
       "      <td>1</td>\n",
       "      <td>13</td>\n",
       "      <td>213</td>\n",
       "      <td>2017-11-07 03:01:41</td>\n",
       "      <td>1</td>\n",
       "      <td>48</td>\n",
       "    </tr>\n",
       "    <tr>\n",
       "      <th>33847</th>\n",
       "      <td>118252</td>\n",
       "      <td>19</td>\n",
       "      <td>353</td>\n",
       "      <td>76</td>\n",
       "      <td>347</td>\n",
       "      <td>2017-11-08 11:27:56</td>\n",
       "      <td>1</td>\n",
       "      <td>42</td>\n",
       "    </tr>\n",
       "    <tr>\n",
       "      <th>90422</th>\n",
       "      <td>75007</td>\n",
       "      <td>29</td>\n",
       "      <td>1</td>\n",
       "      <td>19</td>\n",
       "      <td>343</td>\n",
       "      <td>2017-11-08 10:34:41</td>\n",
       "      <td>1</td>\n",
       "      <td>34</td>\n",
       "    </tr>\n",
       "  </tbody>\n",
       "</table>\n",
       "</div>"
      ],
      "text/plain": [
       "           ip app device  os channel          click_time  is_attributed  \\\n",
       "44349    5314  20      1  27     478 2017-11-08 06:42:28              1   \n",
       "7946     5314  19      0   0     347 2017-11-09 08:11:01              1   \n",
       "96346    5314  19     88  24     213 2017-11-07 22:25:07              1   \n",
       "93796  100275  29      1  15     213 2017-11-07 13:10:17              1   \n",
       "59781  100275   9      1  19     258 2017-11-08 10:38:30              1   \n",
       "56251  123994   9      1  19     244 2017-11-08 18:55:18              1   \n",
       "55450  175837  19      6  29     213 2017-11-08 04:50:46              1   \n",
       "50861  100971  29      1  13     213 2017-11-07 03:01:41              1   \n",
       "33847  118252  19    353  76     347 2017-11-08 11:27:56              1   \n",
       "90422   75007  29      1  19     343 2017-11-08 10:34:41              1   \n",
       "\n",
       "       count_clicks  \n",
       "44349           640  \n",
       "7946            640  \n",
       "96346           640  \n",
       "93796           162  \n",
       "59781           162  \n",
       "56251            90  \n",
       "55450            63  \n",
       "50861            48  \n",
       "33847            42  \n",
       "90422            34  "
      ]
     },
     "execution_count": 16,
     "metadata": {},
     "output_type": "execute_result"
    }
   ],
   "source": [
    "train_sample_df= train_sample_df.merge(ip_repeat_df, on='ip', how='left')\n",
    "train_sample_df[train_sample_df['is_attributed']==1].sort_values('count_clicks', ascending=False)[:10]"
   ]
  },
  {
   "cell_type": "code",
   "execution_count": 17,
   "metadata": {},
   "outputs": [
    {
     "data": {
      "text/plain": [
       "count      251\n",
       "unique     248\n",
       "top       5314\n",
       "freq         3\n",
       "Name: ip, dtype: int64"
      ]
     },
     "execution_count": 17,
     "metadata": {},
     "output_type": "execute_result"
    }
   ],
   "source": [
    "train_sample_df[train_sample_df['is_attributed']==1].ip.describe()"
   ]
  },
  {
   "cell_type": "markdown",
   "metadata": {},
   "source": [
    "That means IP's with higher number of clicks do install the app and it is not realted to any click spam. However, this anlysis is just based on the sample traiing data which is merely 100,000 records."
   ]
  },
  {
   "cell_type": "markdown",
   "metadata": {},
   "source": [
    "Verify the time trends of the clicks and installs"
   ]
  },
  {
   "cell_type": "code",
   "execution_count": 18,
   "metadata": {},
   "outputs": [
    {
     "data": {
      "text/html": [
       "<div>\n",
       "<style scoped>\n",
       "    .dataframe tbody tr th:only-of-type {\n",
       "        vertical-align: middle;\n",
       "    }\n",
       "\n",
       "    .dataframe tbody tr th {\n",
       "        vertical-align: top;\n",
       "    }\n",
       "\n",
       "    .dataframe thead th {\n",
       "        text-align: right;\n",
       "    }\n",
       "</style>\n",
       "<table border=\"1\" class=\"dataframe\">\n",
       "  <thead>\n",
       "    <tr style=\"text-align: right;\">\n",
       "      <th></th>\n",
       "      <th>ip</th>\n",
       "      <th>app</th>\n",
       "      <th>device</th>\n",
       "      <th>os</th>\n",
       "      <th>channel</th>\n",
       "      <th>click_time</th>\n",
       "      <th>is_attributed</th>\n",
       "      <th>count_clicks</th>\n",
       "      <th>click_hour</th>\n",
       "    </tr>\n",
       "  </thead>\n",
       "  <tbody>\n",
       "    <tr>\n",
       "      <th>0</th>\n",
       "      <td>29540</td>\n",
       "      <td>3</td>\n",
       "      <td>1</td>\n",
       "      <td>42</td>\n",
       "      <td>489</td>\n",
       "      <td>2017-11-08 03:57:46</td>\n",
       "      <td>0</td>\n",
       "      <td>3</td>\n",
       "      <td>3</td>\n",
       "    </tr>\n",
       "    <tr>\n",
       "      <th>1</th>\n",
       "      <td>26777</td>\n",
       "      <td>11</td>\n",
       "      <td>1</td>\n",
       "      <td>25</td>\n",
       "      <td>319</td>\n",
       "      <td>2017-11-09 11:02:14</td>\n",
       "      <td>0</td>\n",
       "      <td>5</td>\n",
       "      <td>11</td>\n",
       "    </tr>\n",
       "    <tr>\n",
       "      <th>2</th>\n",
       "      <td>140926</td>\n",
       "      <td>12</td>\n",
       "      <td>1</td>\n",
       "      <td>13</td>\n",
       "      <td>140</td>\n",
       "      <td>2017-11-07 04:36:14</td>\n",
       "      <td>0</td>\n",
       "      <td>1</td>\n",
       "      <td>4</td>\n",
       "    </tr>\n",
       "    <tr>\n",
       "      <th>3</th>\n",
       "      <td>69375</td>\n",
       "      <td>2</td>\n",
       "      <td>1</td>\n",
       "      <td>19</td>\n",
       "      <td>377</td>\n",
       "      <td>2017-11-09 13:17:20</td>\n",
       "      <td>0</td>\n",
       "      <td>35</td>\n",
       "      <td>13</td>\n",
       "    </tr>\n",
       "    <tr>\n",
       "      <th>4</th>\n",
       "      <td>119166</td>\n",
       "      <td>9</td>\n",
       "      <td>2</td>\n",
       "      <td>15</td>\n",
       "      <td>445</td>\n",
       "      <td>2017-11-07 12:11:37</td>\n",
       "      <td>0</td>\n",
       "      <td>2</td>\n",
       "      <td>12</td>\n",
       "    </tr>\n",
       "  </tbody>\n",
       "</table>\n",
       "</div>"
      ],
      "text/plain": [
       "       ip app device  os channel          click_time  is_attributed  \\\n",
       "0   29540   3      1  42     489 2017-11-08 03:57:46              0   \n",
       "1   26777  11      1  25     319 2017-11-09 11:02:14              0   \n",
       "2  140926  12      1  13     140 2017-11-07 04:36:14              0   \n",
       "3   69375   2      1  19     377 2017-11-09 13:17:20              0   \n",
       "4  119166   9      2  15     445 2017-11-07 12:11:37              0   \n",
       "\n",
       "   count_clicks  click_hour  \n",
       "0             3           3  \n",
       "1             5          11  \n",
       "2             1           4  \n",
       "3            35          13  \n",
       "4             2          12  "
      ]
     },
     "execution_count": 18,
     "metadata": {},
     "output_type": "execute_result"
    }
   ],
   "source": [
    "train_sample_df['click_hour']=train_sample_df['click_time'].dt.hour\n",
    "train_sample_df.head()"
   ]
  },
  {
   "cell_type": "markdown",
   "metadata": {},
   "source": [
    "Click and conversion trends based on the click hour of the day"
   ]
  },
  {
   "cell_type": "code",
   "execution_count": 19,
   "metadata": {},
   "outputs": [
    {
     "data": {
      "image/png": "[encoded data removed]",
      "text/plain": [
       "<Figure size 432x288 with 1 Axes>"
      ]
     },
     "metadata": {},
     "output_type": "display_data"
    }
   ],
   "source": [
    "train_sample_df[['click_hour','is_attributed']].groupby(['click_hour'], as_index=True).count().plot()\n",
    "plt.title('HOURLY CLICK FREQUENCY Lineplot');\n",
    "plt.ylabel('Number of Clicks');"
   ]
  },
  {
   "cell_type": "code",
   "execution_count": 20,
   "metadata": {},
   "outputs": [
    {
     "data": {
      "image/png": "[encoded data removed]",
      "text/plain": [
       "<Figure size 432x288 with 1 Axes>"
      ]
     },
     "metadata": {},
     "output_type": "display_data"
    }
   ],
   "source": [
    "train_sample_df[['click_hour','is_attributed']].groupby(['click_hour'], as_index=True).mean().plot()\n",
    "plt.title('HOURLY CLICK FREQUENCY Lineplot');\n",
    "plt.ylabel('Number of Clicks');"
   ]
  },
  {
   "cell_type": "markdown",
   "metadata": {},
   "source": [
    "The trend of click to conversion with hour of the day does not show any clear patterns because during the hours between 15-19, clciks were minimum whereas the conversions were maximum. On the contrarat during the 20th hour, clicks and the corresponding conversions were almost negligible as compared to rets of the day. \n",
    "I will look at the actual training data to make some conclusions for the hourly trend and using it a s afeature to train the model"
   ]
  },
  {
   "cell_type": "code",
   "execution_count": 43,
   "metadata": {},
   "outputs": [
    {
     "data": {
      "text/plain": [
       "Text(0, 0.5, 'Number of Clicks')"
      ]
     },
     "execution_count": 43,
     "metadata": {},
     "output_type": "execute_result"
    },
    {
     "data": {
      "image/png": "[encoded data removed]",
      "text/plain": [
       "<Figure size 432x288 with 1 Axes>"
      ]
     },
     "metadata": {},
     "output_type": "display_data"
    }
   ],
   "source": [
    "train_sample_df['click_DAY']=train_sample_df['click_time'].dt.day\n",
    "train_sample_df[['click_DAY','is_attributed']].groupby(['click_DAY'], as_index=True).count().plot(kind='bar', color='blue')\n",
    "plt.title('Daily CLICK FREQUENCY BARPLOT');\n",
    "plt.ylabel('Number of Clicks')"
   ]
  },
  {
   "cell_type": "code",
   "execution_count": 21,
   "metadata": {},
   "outputs": [],
   "source": [
    "train_df = pd.read_csv(path+\"train.csv\",  nrows=30000000, dtype=dtypes, usecols=['ip','app','device','os', 'channel', 'click_time', 'is_attributed'])"
   ]
  },
  {
   "cell_type": "code",
   "execution_count": 22,
   "metadata": {},
   "outputs": [],
   "source": [
    "test_df = pd.read_csv(path+\"test.csv\", dtype=dtypes,skiprows=range(1,11290470), nrows=7500000, usecols=['ip','app','device','os', 'channel', 'click_time', 'click_id'])"
   ]
  },
  {
   "cell_type": "code",
   "execution_count": 23,
   "metadata": {},
   "outputs": [
    {
     "name": "stdout",
     "output_type": "stream",
     "text": [
      "       ip  app  device  os  channel           click_time  is_attributed\n",
      "0   83230    3       1  13      379  2017-11-06 14:32:21              0\n",
      "1   17357    3       1  19      379  2017-11-06 14:33:34              0\n",
      "2   35810    3       1  13      379  2017-11-06 14:34:12              0\n",
      "3   45745   14       1  13      478  2017-11-06 14:34:52              0\n",
      "4  161007    3       1  13      379  2017-11-06 14:35:08              0\n",
      "   click_id      ip  app  device  os  channel           click_time\n",
      "0  11290469   91154   17       1  19      128  2017-11-10 10:40:24\n",
      "1  11290470   77391   21       1  19      232  2017-11-10 10:40:24\n",
      "2  11290471  125592   10       1   6      377  2017-11-10 10:40:24\n",
      "3  11290472   50924    9       1  19      215  2017-11-10 10:40:24\n",
      "4  11290473   92919    9       1   9      127  2017-11-10 10:40:24\n"
     ]
    }
   ],
   "source": [
    "print(train_df.head())\n",
    "print(test_df.head())"
   ]
  },
  {
   "cell_type": "code",
   "execution_count": 24,
   "metadata": {},
   "outputs": [],
   "source": [
    "variables = ['ip', 'app', 'device', 'os', 'channel']\n",
    "for v in variables:\n",
    "    train_df[v] = train_df[v].astype('category')\n",
    "    test_df[v]=test_df[v].astype('category')"
   ]
  },
  {
   "cell_type": "code",
   "execution_count": 25,
   "metadata": {},
   "outputs": [
    {
     "name": "stdout",
     "output_type": "stream",
     "text": [
      "<class 'pandas.core.frame.DataFrame'>\n",
      "RangeIndex: 30000000 entries, 0 to 29999999\n",
      "Data columns (total 7 columns):\n",
      "ip               category\n",
      "app              category\n",
      "device           category\n",
      "os               category\n",
      "channel          category\n",
      "click_time       object\n",
      "is_attributed    uint8\n",
      "dtypes: category(5), object(1), uint8(1)\n",
      "memory usage: 604.1+ MB\n"
     ]
    }
   ],
   "source": [
    "train_df.info()"
   ]
  },
  {
   "cell_type": "code",
   "execution_count": 26,
   "metadata": {},
   "outputs": [],
   "source": [
    "train_df['click_time'] = pd.to_datetime(train_df['click_time'])\n",
    "test_df['click_time'] = pd.to_datetime(test_df['click_time'])"
   ]
  },
  {
   "cell_type": "code",
   "execution_count": 27,
   "metadata": {},
   "outputs": [],
   "source": [
    "train_df['click_hour']=train_df['click_time'].dt.hour\n",
    "test_df['click_hour']=test_df['click_time'].dt.hour"
   ]
  },
  {
   "cell_type": "code",
   "execution_count": 28,
   "metadata": {},
   "outputs": [
    {
     "data": {
      "image/png": "[encoded data removed]",
      "text/plain": [
       "<Figure size 432x288 with 1 Axes>"
      ]
     },
     "metadata": {},
     "output_type": "display_data"
    },
    {
     "data": {
      "image/png": "[encoded data removed]",
      "text/plain": [
       "<Figure size 432x288 with 1 Axes>"
      ]
     },
     "metadata": {},
     "output_type": "display_data"
    },
    {
     "data": {
      "image/png": "[encoded data removed]",
      "text/plain": [
       "<Figure size 432x288 with 1 Axes>"
      ]
     },
     "metadata": {},
     "output_type": "display_data"
    },
    {
     "data": {
      "image/png": "[encoded data removed]",
      "text/plain": [
       "<Figure size 432x288 with 1 Axes>"
      ]
     },
     "metadata": {},
     "output_type": "display_data"
    }
   ],
   "source": [
    "#check for hourly patterns of training data\n",
    "train_df[['click_hour','is_attributed']].groupby(['click_hour'], as_index=True).count().plot(kind='bar', color='blue')\n",
    "plt.title('HOURLY CLICK FREQUENCY BARPLOT');\n",
    "plt.ylabel('Number of Clicks')\n",
    "\n",
    "train_df[['click_hour','is_attributed']].groupby(['click_hour'], as_index=True).mean().plot(kind='bar', color='green')\n",
    "plt.title('HOURLY CLICK FREQUENCY BARPLOT');\n",
    "plt.ylabel('Number of Clicks')\n",
    "\n",
    "train_df[['click_hour','is_attributed']].groupby(['click_hour'], as_index=True).count().plot(color='blue')\n",
    "plt.title('HOURLY CLICK FREQUENCY LINEPLOT');\n",
    "plt.ylabel('Number of Clicks');\n",
    "\n",
    "train_df[['click_hour','is_attributed']].groupby(['click_hour'], as_index=True).mean().plot(color='green')\n",
    "plt.title('HOURLY CONVERSION RATIO LINEPLOT');\n",
    "plt.ylabel('Converted Ratio');"
   ]
  },
  {
   "cell_type": "code",
   "execution_count": 29,
   "metadata": {},
   "outputs": [],
   "source": [
    "train_df['click_DAY']=train_df['click_time'].dt.day"
   ]
  },
  {
   "cell_type": "code",
   "execution_count": 30,
   "metadata": {},
   "outputs": [
    {
     "data": {
      "text/plain": [
       "Text(0, 0.5, 'Number of Clicks')"
      ]
     },
     "execution_count": 30,
     "metadata": {},
     "output_type": "execute_result"
    },
    {
     "data": {
      "image/png": "[encoded data removed]",
      "text/plain": [
       "<Figure size 432x288 with 1 Axes>"
      ]
     },
     "metadata": {},
     "output_type": "display_data"
    }
   ],
   "source": [
    "train_df[['click_DAY','is_attributed']].groupby(['click_DAY'], as_index=True).count().plot(kind='bar', color='blue')\n",
    "plt.title('Daily CLICK FREQUENCY BARPLOT');\n",
    "plt.ylabel('Number of Clicks')"
   ]
  },
  {
   "cell_type": "markdown",
   "metadata": {},
   "source": [
    "The above plot shows that the training data that I have chosen have clicks from two days and all hours of the day does not have data. I am not considering day as the feature. Other thing I can try is to take the hour information because early hours of the morning from 1-3 shows maximum clicks which is a bit odd. "
   ]
  },
  {
   "cell_type": "markdown",
   "metadata": {},
   "source": [
    "Generating new features from IP, app, OS,Device, Channel utilizing the click_hour data alongwith.\n",
    "First of all, I will combine both training and test data so that all the features can be derived simultaneously for both training and test set."
   ]
  },
  {
   "cell_type": "code",
   "execution_count": 31,
   "metadata": {},
   "outputs": [],
   "source": [
    "train_samples = len(train_df)\n",
    "train_df=train_df.append(test_df)"
   ]
  },
  {
   "cell_type": "markdown",
   "metadata": {},
   "source": [
    "1. Getting the count of clicks for ip-hour combination\n",
    "2. Getting the count of clicks for ip-app combination\n",
    "3. Getting the count of clicks for ip-app-os combination\n",
    "4. Getting the count of clicks for ip-device-os combination\n"
   ]
  },
  {
   "cell_type": "code",
   "execution_count": 32,
   "metadata": {},
   "outputs": [],
   "source": [
    "import gc"
   ]
  },
  {
   "cell_type": "code",
   "execution_count": 33,
   "metadata": {},
   "outputs": [
    {
     "data": {
      "text/plain": [
       "12056"
      ]
     },
     "execution_count": 33,
     "metadata": {},
     "output_type": "execute_result"
    }
   ],
   "source": [
    "del test_df\n",
    "gc.collect()"
   ]
  },
  {
   "cell_type": "code",
   "execution_count": 34,
   "metadata": {},
   "outputs": [
    {
     "data": {
      "text/html": [
       "<div>\n",
       "<style scoped>\n",
       "    .dataframe tbody tr th:only-of-type {\n",
       "        vertical-align: middle;\n",
       "    }\n",
       "\n",
       "    .dataframe tbody tr th {\n",
       "        vertical-align: top;\n",
       "    }\n",
       "\n",
       "    .dataframe thead th {\n",
       "        text-align: right;\n",
       "    }\n",
       "</style>\n",
       "<table border=\"1\" class=\"dataframe\">\n",
       "  <thead>\n",
       "    <tr style=\"text-align: right;\">\n",
       "      <th></th>\n",
       "      <th>app</th>\n",
       "      <th>channel</th>\n",
       "      <th>click_DAY</th>\n",
       "      <th>click_hour</th>\n",
       "      <th>click_id</th>\n",
       "      <th>click_time</th>\n",
       "      <th>device</th>\n",
       "      <th>ip</th>\n",
       "      <th>is_attributed</th>\n",
       "      <th>os</th>\n",
       "      <th>ip_hour_count</th>\n",
       "    </tr>\n",
       "  </thead>\n",
       "  <tbody>\n",
       "    <tr>\n",
       "      <th>0</th>\n",
       "      <td>3</td>\n",
       "      <td>379</td>\n",
       "      <td>6.0</td>\n",
       "      <td>14</td>\n",
       "      <td>NaN</td>\n",
       "      <td>2017-11-06 14:32:21</td>\n",
       "      <td>1</td>\n",
       "      <td>83230</td>\n",
       "      <td>0.0</td>\n",
       "      <td>13</td>\n",
       "      <td>232</td>\n",
       "    </tr>\n",
       "    <tr>\n",
       "      <th>1</th>\n",
       "      <td>3</td>\n",
       "      <td>379</td>\n",
       "      <td>6.0</td>\n",
       "      <td>14</td>\n",
       "      <td>NaN</td>\n",
       "      <td>2017-11-06 14:33:34</td>\n",
       "      <td>1</td>\n",
       "      <td>17357</td>\n",
       "      <td>0.0</td>\n",
       "      <td>19</td>\n",
       "      <td>256</td>\n",
       "    </tr>\n",
       "    <tr>\n",
       "      <th>2</th>\n",
       "      <td>3</td>\n",
       "      <td>379</td>\n",
       "      <td>6.0</td>\n",
       "      <td>14</td>\n",
       "      <td>NaN</td>\n",
       "      <td>2017-11-06 14:34:12</td>\n",
       "      <td>1</td>\n",
       "      <td>35810</td>\n",
       "      <td>0.0</td>\n",
       "      <td>13</td>\n",
       "      <td>280</td>\n",
       "    </tr>\n",
       "    <tr>\n",
       "      <th>3</th>\n",
       "      <td>14</td>\n",
       "      <td>478</td>\n",
       "      <td>6.0</td>\n",
       "      <td>14</td>\n",
       "      <td>NaN</td>\n",
       "      <td>2017-11-06 14:34:52</td>\n",
       "      <td>1</td>\n",
       "      <td>45745</td>\n",
       "      <td>0.0</td>\n",
       "      <td>13</td>\n",
       "      <td>4398</td>\n",
       "    </tr>\n",
       "    <tr>\n",
       "      <th>4</th>\n",
       "      <td>3</td>\n",
       "      <td>379</td>\n",
       "      <td>6.0</td>\n",
       "      <td>14</td>\n",
       "      <td>NaN</td>\n",
       "      <td>2017-11-06 14:35:08</td>\n",
       "      <td>1</td>\n",
       "      <td>161007</td>\n",
       "      <td>0.0</td>\n",
       "      <td>13</td>\n",
       "      <td>1</td>\n",
       "    </tr>\n",
       "  </tbody>\n",
       "</table>\n",
       "</div>"
      ],
      "text/plain": [
       "   app  channel  click_DAY  click_hour  click_id          click_time  device  \\\n",
       "0    3      379        6.0          14       NaN 2017-11-06 14:32:21       1   \n",
       "1    3      379        6.0          14       NaN 2017-11-06 14:33:34       1   \n",
       "2    3      379        6.0          14       NaN 2017-11-06 14:34:12       1   \n",
       "3   14      478        6.0          14       NaN 2017-11-06 14:34:52       1   \n",
       "4    3      379        6.0          14       NaN 2017-11-06 14:35:08       1   \n",
       "\n",
       "       ip  is_attributed  os  ip_hour_count  \n",
       "0   83230            0.0  13            232  \n",
       "1   17357            0.0  19            256  \n",
       "2   35810            0.0  13            280  \n",
       "3   45745            0.0  13           4398  \n",
       "4  161007            0.0  13              1  "
      ]
     },
     "execution_count": 34,
     "metadata": {},
     "output_type": "execute_result"
    }
   ],
   "source": [
    "temp_df = train_df[['ip','click_hour','channel']].groupby(by=['ip','click_hour'])[['channel']].count().reset_index().rename(index=str, columns={'channel': 'ip_hour_count'})\n",
    "train_df = train_df.merge(temp_df, on=['ip','click_hour'], how='left')\n",
    "del temp_df\n",
    "gc.collect()\n",
    "train_df.head()"
   ]
  },
  {
   "cell_type": "code",
   "execution_count": 35,
   "metadata": {},
   "outputs": [
    {
     "data": {
      "text/html": [
       "<div>\n",
       "<style scoped>\n",
       "    .dataframe tbody tr th:only-of-type {\n",
       "        vertical-align: middle;\n",
       "    }\n",
       "\n",
       "    .dataframe tbody tr th {\n",
       "        vertical-align: top;\n",
       "    }\n",
       "\n",
       "    .dataframe thead th {\n",
       "        text-align: right;\n",
       "    }\n",
       "</style>\n",
       "<table border=\"1\" class=\"dataframe\">\n",
       "  <thead>\n",
       "    <tr style=\"text-align: right;\">\n",
       "      <th></th>\n",
       "      <th>app</th>\n",
       "      <th>channel</th>\n",
       "      <th>click_DAY</th>\n",
       "      <th>click_hour</th>\n",
       "      <th>click_id</th>\n",
       "      <th>click_time</th>\n",
       "      <th>device</th>\n",
       "      <th>ip</th>\n",
       "      <th>is_attributed</th>\n",
       "      <th>os</th>\n",
       "      <th>ip_hour_count</th>\n",
       "      <th>ip_app_count</th>\n",
       "    </tr>\n",
       "  </thead>\n",
       "  <tbody>\n",
       "    <tr>\n",
       "      <th>0</th>\n",
       "      <td>3</td>\n",
       "      <td>379</td>\n",
       "      <td>6.0</td>\n",
       "      <td>14</td>\n",
       "      <td>NaN</td>\n",
       "      <td>2017-11-06 14:32:21</td>\n",
       "      <td>1</td>\n",
       "      <td>83230</td>\n",
       "      <td>0.0</td>\n",
       "      <td>13</td>\n",
       "      <td>232</td>\n",
       "      <td>1081</td>\n",
       "    </tr>\n",
       "    <tr>\n",
       "      <th>1</th>\n",
       "      <td>3</td>\n",
       "      <td>379</td>\n",
       "      <td>6.0</td>\n",
       "      <td>14</td>\n",
       "      <td>NaN</td>\n",
       "      <td>2017-11-06 14:33:34</td>\n",
       "      <td>1</td>\n",
       "      <td>17357</td>\n",
       "      <td>0.0</td>\n",
       "      <td>19</td>\n",
       "      <td>256</td>\n",
       "      <td>840</td>\n",
       "    </tr>\n",
       "    <tr>\n",
       "      <th>2</th>\n",
       "      <td>3</td>\n",
       "      <td>379</td>\n",
       "      <td>6.0</td>\n",
       "      <td>14</td>\n",
       "      <td>NaN</td>\n",
       "      <td>2017-11-06 14:34:12</td>\n",
       "      <td>1</td>\n",
       "      <td>35810</td>\n",
       "      <td>0.0</td>\n",
       "      <td>13</td>\n",
       "      <td>280</td>\n",
       "      <td>292</td>\n",
       "    </tr>\n",
       "    <tr>\n",
       "      <th>3</th>\n",
       "      <td>14</td>\n",
       "      <td>478</td>\n",
       "      <td>6.0</td>\n",
       "      <td>14</td>\n",
       "      <td>NaN</td>\n",
       "      <td>2017-11-06 14:34:52</td>\n",
       "      <td>1</td>\n",
       "      <td>45745</td>\n",
       "      <td>0.0</td>\n",
       "      <td>13</td>\n",
       "      <td>4398</td>\n",
       "      <td>2075</td>\n",
       "    </tr>\n",
       "    <tr>\n",
       "      <th>4</th>\n",
       "      <td>3</td>\n",
       "      <td>379</td>\n",
       "      <td>6.0</td>\n",
       "      <td>14</td>\n",
       "      <td>NaN</td>\n",
       "      <td>2017-11-06 14:35:08</td>\n",
       "      <td>1</td>\n",
       "      <td>161007</td>\n",
       "      <td>0.0</td>\n",
       "      <td>13</td>\n",
       "      <td>1</td>\n",
       "      <td>95</td>\n",
       "    </tr>\n",
       "  </tbody>\n",
       "</table>\n",
       "</div>"
      ],
      "text/plain": [
       "   app  channel  click_DAY  click_hour  click_id          click_time  device  \\\n",
       "0    3      379        6.0          14       NaN 2017-11-06 14:32:21       1   \n",
       "1    3      379        6.0          14       NaN 2017-11-06 14:33:34       1   \n",
       "2    3      379        6.0          14       NaN 2017-11-06 14:34:12       1   \n",
       "3   14      478        6.0          14       NaN 2017-11-06 14:34:52       1   \n",
       "4    3      379        6.0          14       NaN 2017-11-06 14:35:08       1   \n",
       "\n",
       "       ip  is_attributed  os  ip_hour_count  ip_app_count  \n",
       "0   83230            0.0  13            232          1081  \n",
       "1   17357            0.0  19            256           840  \n",
       "2   35810            0.0  13            280           292  \n",
       "3   45745            0.0  13           4398          2075  \n",
       "4  161007            0.0  13              1            95  "
      ]
     },
     "execution_count": 35,
     "metadata": {},
     "output_type": "execute_result"
    }
   ],
   "source": [
    "temp_df = train_df[['ip', 'app', 'channel']].groupby(by=['ip', 'app'])[['channel']].count().reset_index().rename(index=str, columns={'channel': 'ip_app_count'})\n",
    "train_df = train_df.merge(temp_df, on=['ip','app'], how='left')\n",
    "del temp_df\n",
    "gc.collect()\n",
    "train_df.head()"
   ]
  },
  {
   "cell_type": "code",
   "execution_count": 36,
   "metadata": {},
   "outputs": [
    {
     "data": {
      "text/html": [
       "<div>\n",
       "<style scoped>\n",
       "    .dataframe tbody tr th:only-of-type {\n",
       "        vertical-align: middle;\n",
       "    }\n",
       "\n",
       "    .dataframe tbody tr th {\n",
       "        vertical-align: top;\n",
       "    }\n",
       "\n",
       "    .dataframe thead th {\n",
       "        text-align: right;\n",
       "    }\n",
       "</style>\n",
       "<table border=\"1\" class=\"dataframe\">\n",
       "  <thead>\n",
       "    <tr style=\"text-align: right;\">\n",
       "      <th></th>\n",
       "      <th>app</th>\n",
       "      <th>channel</th>\n",
       "      <th>click_DAY</th>\n",
       "      <th>click_hour</th>\n",
       "      <th>click_id</th>\n",
       "      <th>click_time</th>\n",
       "      <th>device</th>\n",
       "      <th>ip</th>\n",
       "      <th>is_attributed</th>\n",
       "      <th>os</th>\n",
       "      <th>ip_hour_count</th>\n",
       "      <th>ip_app_count</th>\n",
       "      <th>ip_app_os_count</th>\n",
       "    </tr>\n",
       "  </thead>\n",
       "  <tbody>\n",
       "    <tr>\n",
       "      <th>0</th>\n",
       "      <td>3</td>\n",
       "      <td>379</td>\n",
       "      <td>6.0</td>\n",
       "      <td>14</td>\n",
       "      <td>NaN</td>\n",
       "      <td>2017-11-06 14:32:21</td>\n",
       "      <td>1</td>\n",
       "      <td>83230</td>\n",
       "      <td>0.0</td>\n",
       "      <td>13</td>\n",
       "      <td>232</td>\n",
       "      <td>1081</td>\n",
       "      <td>294</td>\n",
       "    </tr>\n",
       "    <tr>\n",
       "      <th>1</th>\n",
       "      <td>3</td>\n",
       "      <td>379</td>\n",
       "      <td>6.0</td>\n",
       "      <td>14</td>\n",
       "      <td>NaN</td>\n",
       "      <td>2017-11-06 14:33:34</td>\n",
       "      <td>1</td>\n",
       "      <td>17357</td>\n",
       "      <td>0.0</td>\n",
       "      <td>19</td>\n",
       "      <td>256</td>\n",
       "      <td>840</td>\n",
       "      <td>227</td>\n",
       "    </tr>\n",
       "    <tr>\n",
       "      <th>2</th>\n",
       "      <td>3</td>\n",
       "      <td>379</td>\n",
       "      <td>6.0</td>\n",
       "      <td>14</td>\n",
       "      <td>NaN</td>\n",
       "      <td>2017-11-06 14:34:12</td>\n",
       "      <td>1</td>\n",
       "      <td>35810</td>\n",
       "      <td>0.0</td>\n",
       "      <td>13</td>\n",
       "      <td>280</td>\n",
       "      <td>292</td>\n",
       "      <td>69</td>\n",
       "    </tr>\n",
       "    <tr>\n",
       "      <th>3</th>\n",
       "      <td>14</td>\n",
       "      <td>478</td>\n",
       "      <td>6.0</td>\n",
       "      <td>14</td>\n",
       "      <td>NaN</td>\n",
       "      <td>2017-11-06 14:34:52</td>\n",
       "      <td>1</td>\n",
       "      <td>45745</td>\n",
       "      <td>0.0</td>\n",
       "      <td>13</td>\n",
       "      <td>4398</td>\n",
       "      <td>2075</td>\n",
       "      <td>458</td>\n",
       "    </tr>\n",
       "    <tr>\n",
       "      <th>4</th>\n",
       "      <td>3</td>\n",
       "      <td>379</td>\n",
       "      <td>6.0</td>\n",
       "      <td>14</td>\n",
       "      <td>NaN</td>\n",
       "      <td>2017-11-06 14:35:08</td>\n",
       "      <td>1</td>\n",
       "      <td>161007</td>\n",
       "      <td>0.0</td>\n",
       "      <td>13</td>\n",
       "      <td>1</td>\n",
       "      <td>95</td>\n",
       "      <td>32</td>\n",
       "    </tr>\n",
       "  </tbody>\n",
       "</table>\n",
       "</div>"
      ],
      "text/plain": [
       "   app  channel  click_DAY  click_hour  click_id          click_time  device  \\\n",
       "0    3      379        6.0          14       NaN 2017-11-06 14:32:21       1   \n",
       "1    3      379        6.0          14       NaN 2017-11-06 14:33:34       1   \n",
       "2    3      379        6.0          14       NaN 2017-11-06 14:34:12       1   \n",
       "3   14      478        6.0          14       NaN 2017-11-06 14:34:52       1   \n",
       "4    3      379        6.0          14       NaN 2017-11-06 14:35:08       1   \n",
       "\n",
       "       ip  is_attributed  os  ip_hour_count  ip_app_count  ip_app_os_count  \n",
       "0   83230            0.0  13            232          1081              294  \n",
       "1   17357            0.0  19            256           840              227  \n",
       "2   35810            0.0  13            280           292               69  \n",
       "3   45745            0.0  13           4398          2075              458  \n",
       "4  161007            0.0  13              1            95               32  "
      ]
     },
     "execution_count": 36,
     "metadata": {},
     "output_type": "execute_result"
    }
   ],
   "source": [
    "temp_df = train_df[['ip', 'app','os', 'channel']].groupby(by=['ip', 'app','os'])[['channel']].count().reset_index().rename(index=str, columns={'channel': 'ip_app_os_count'})\n",
    "train_df = train_df.merge(temp_df, on=['ip','app','os'], how='left')\n",
    "del temp_df\n",
    "gc.collect()\n",
    "train_df.head()"
   ]
  },
  {
   "cell_type": "code",
   "execution_count": 38,
   "metadata": {},
   "outputs": [
    {
     "data": {
      "text/html": [
       "<div>\n",
       "<style scoped>\n",
       "    .dataframe tbody tr th:only-of-type {\n",
       "        vertical-align: middle;\n",
       "    }\n",
       "\n",
       "    .dataframe tbody tr th {\n",
       "        vertical-align: top;\n",
       "    }\n",
       "\n",
       "    .dataframe thead th {\n",
       "        text-align: right;\n",
       "    }\n",
       "</style>\n",
       "<table border=\"1\" class=\"dataframe\">\n",
       "  <thead>\n",
       "    <tr style=\"text-align: right;\">\n",
       "      <th></th>\n",
       "      <th>app</th>\n",
       "      <th>channel</th>\n",
       "      <th>click_DAY</th>\n",
       "      <th>click_hour</th>\n",
       "      <th>click_id</th>\n",
       "      <th>click_time</th>\n",
       "      <th>device</th>\n",
       "      <th>ip</th>\n",
       "      <th>is_attributed</th>\n",
       "      <th>os</th>\n",
       "      <th>ip_hour_count</th>\n",
       "      <th>ip_app_count</th>\n",
       "      <th>ip_app_os_count</th>\n",
       "      <th>ip_device_os_count</th>\n",
       "    </tr>\n",
       "  </thead>\n",
       "  <tbody>\n",
       "    <tr>\n",
       "      <th>0</th>\n",
       "      <td>3</td>\n",
       "      <td>379</td>\n",
       "      <td>6.0</td>\n",
       "      <td>14</td>\n",
       "      <td>NaN</td>\n",
       "      <td>2017-11-06 14:32:21</td>\n",
       "      <td>1</td>\n",
       "      <td>83230</td>\n",
       "      <td>0.0</td>\n",
       "      <td>13</td>\n",
       "      <td>232</td>\n",
       "      <td>1081</td>\n",
       "      <td>294</td>\n",
       "      <td>1741</td>\n",
       "    </tr>\n",
       "    <tr>\n",
       "      <th>1</th>\n",
       "      <td>3</td>\n",
       "      <td>379</td>\n",
       "      <td>6.0</td>\n",
       "      <td>14</td>\n",
       "      <td>NaN</td>\n",
       "      <td>2017-11-06 14:33:34</td>\n",
       "      <td>1</td>\n",
       "      <td>17357</td>\n",
       "      <td>0.0</td>\n",
       "      <td>19</td>\n",
       "      <td>256</td>\n",
       "      <td>840</td>\n",
       "      <td>227</td>\n",
       "      <td>1071</td>\n",
       "    </tr>\n",
       "    <tr>\n",
       "      <th>2</th>\n",
       "      <td>3</td>\n",
       "      <td>379</td>\n",
       "      <td>6.0</td>\n",
       "      <td>14</td>\n",
       "      <td>NaN</td>\n",
       "      <td>2017-11-06 14:34:12</td>\n",
       "      <td>1</td>\n",
       "      <td>35810</td>\n",
       "      <td>0.0</td>\n",
       "      <td>13</td>\n",
       "      <td>280</td>\n",
       "      <td>292</td>\n",
       "      <td>69</td>\n",
       "      <td>327</td>\n",
       "    </tr>\n",
       "    <tr>\n",
       "      <th>3</th>\n",
       "      <td>14</td>\n",
       "      <td>478</td>\n",
       "      <td>6.0</td>\n",
       "      <td>14</td>\n",
       "      <td>NaN</td>\n",
       "      <td>2017-11-06 14:34:52</td>\n",
       "      <td>1</td>\n",
       "      <td>45745</td>\n",
       "      <td>0.0</td>\n",
       "      <td>13</td>\n",
       "      <td>4398</td>\n",
       "      <td>2075</td>\n",
       "      <td>458</td>\n",
       "      <td>6717</td>\n",
       "    </tr>\n",
       "    <tr>\n",
       "      <th>4</th>\n",
       "      <td>3</td>\n",
       "      <td>379</td>\n",
       "      <td>6.0</td>\n",
       "      <td>14</td>\n",
       "      <td>NaN</td>\n",
       "      <td>2017-11-06 14:35:08</td>\n",
       "      <td>1</td>\n",
       "      <td>161007</td>\n",
       "      <td>0.0</td>\n",
       "      <td>13</td>\n",
       "      <td>1</td>\n",
       "      <td>95</td>\n",
       "      <td>32</td>\n",
       "      <td>108</td>\n",
       "    </tr>\n",
       "  </tbody>\n",
       "</table>\n",
       "</div>"
      ],
      "text/plain": [
       "   app  channel  click_DAY  click_hour  click_id          click_time  device  \\\n",
       "0    3      379        6.0          14       NaN 2017-11-06 14:32:21       1   \n",
       "1    3      379        6.0          14       NaN 2017-11-06 14:33:34       1   \n",
       "2    3      379        6.0          14       NaN 2017-11-06 14:34:12       1   \n",
       "3   14      478        6.0          14       NaN 2017-11-06 14:34:52       1   \n",
       "4    3      379        6.0          14       NaN 2017-11-06 14:35:08       1   \n",
       "\n",
       "       ip  is_attributed  os  ip_hour_count  ip_app_count  ip_app_os_count  \\\n",
       "0   83230            0.0  13            232          1081              294   \n",
       "1   17357            0.0  19            256           840              227   \n",
       "2   35810            0.0  13            280           292               69   \n",
       "3   45745            0.0  13           4398          2075              458   \n",
       "4  161007            0.0  13              1            95               32   \n",
       "\n",
       "   ip_device_os_count  \n",
       "0                1741  \n",
       "1                1071  \n",
       "2                 327  \n",
       "3                6717  \n",
       "4                 108  "
      ]
     },
     "execution_count": 38,
     "metadata": {},
     "output_type": "execute_result"
    }
   ],
   "source": [
    "temp_df = train_df[['ip', 'device','os', 'channel']].groupby(by=['ip', 'device','os'])[['channel']].count().reset_index().rename(index=str, columns={'channel': 'ip_device_os_count'})\n",
    "train_df = train_df.merge(temp_df, on=['ip','device','os'], how='left')\n",
    "del temp_df\n",
    "gc.collect()\n",
    "train_df.head()"
   ]
  },
  {
   "cell_type": "code",
   "execution_count": 45,
   "metadata": {},
   "outputs": [],
   "source": [
    "import lightgbm as lgb\n",
    "\n",
    "def lgb_modelfit(params, dtrain, dvalid, predictors, target='target', objective='binary', metrics='auc',\n",
    "                 feval=None, early_stopping_rounds=20, num_boost_round=3000, verbose_eval=10, categorical_features=None):\n",
    "    lgb_params = {\n",
    "        'boosting_type': 'gbdt',\n",
    "        'objective': objective,\n",
    "        'metric':metrics,\n",
    "        'learning_rate': 0.01,\n",
    "        'num_leaves': 31,  \n",
    "        'max_depth': -1,  # -1 means no limit\n",
    "        'min_child_samples': 20,  \n",
    "        'max_bin': 255,  \n",
    "        'subsample': 0.6,  \n",
    "        'subsample_freq': 0, \n",
    "        'colsample_bytree': 0.3,  \n",
    "        'min_child_weight': 5,  \n",
    "        'subsample_for_bin': 200000,  \n",
    "        'min_split_gain': 0,  \n",
    "        'reg_alpha': 0,  \n",
    "        'reg_lambda': 0,  \n",
    "        'nthread': 4,\n",
    "        'verbose': 0,\n",
    "        'metric':metrics\n",
    "    }\n",
    "\n",
    "    lgb_params.update(params)\n",
    "\n",
    "    print(\"preparing validation datasets\")\n",
    "\n",
    "    xgtrain = lgb.Dataset(dtrain[predictors].values, label=dtrain[target].values,\n",
    "                          feature_name=predictors,\n",
    "                          categorical_feature=categorical_features\n",
    "                          )\n",
    "    xgvalid = lgb.Dataset(dvalid[predictors].values, label=dvalid[target].values,\n",
    "                          feature_name=predictors,\n",
    "                          categorical_feature=categorical_features\n",
    "                          )\n",
    "\n",
    "    evals_results = {}\n",
    "\n",
    "    bst1 = lgb.train(lgb_params, \n",
    "                     xgtrain, \n",
    "                     valid_sets=[xgtrain, xgvalid], \n",
    "                     valid_names=['train','valid'], \n",
    "                     evals_result=evals_results, \n",
    "                     num_boost_round=num_boost_round,\n",
    "                     early_stopping_rounds=early_stopping_rounds,\n",
    "                     verbose_eval=10, \n",
    "                     feval=feval)\n",
    "\n",
    "    n_estimators = bst1.best_iteration\n",
    "    print(\"\\nModel Report\")\n",
    "    print(\"n_estimators : \", n_estimators)\n",
    "    print(metrics+\":\", evals_results['valid'][metrics][n_estimators-1])\n",
    "\n",
    "    return bst1"
   ]
  },
  {
   "cell_type": "code",
   "execution_count": 40,
   "metadata": {},
   "outputs": [
    {
     "name": "stdout",
     "output_type": "stream",
     "text": [
      "<class 'pandas.core.frame.DataFrame'>\n",
      "Int64Index: 37500000 entries, 0 to 37499999\n",
      "Data columns (total 14 columns):\n",
      "app                   uint64\n",
      "channel               uint64\n",
      "click_DAY             float64\n",
      "click_hour            int64\n",
      "click_id              float64\n",
      "click_time            datetime64[ns]\n",
      "device                uint64\n",
      "ip                    uint64\n",
      "is_attributed         float64\n",
      "os                    uint64\n",
      "ip_hour_count         int64\n",
      "ip_app_count          int64\n",
      "ip_app_os_count       int64\n",
      "ip_device_os_count    int64\n",
      "dtypes: datetime64[ns](1), float64(3), int64(5), uint64(5)\n",
      "memory usage: 4.2 GB\n"
     ]
    }
   ],
   "source": [
    "train_df.info()"
   ]
  },
  {
   "cell_type": "code",
   "execution_count": 42,
   "metadata": {},
   "outputs": [
    {
     "name": "stdout",
     "output_type": "stream",
     "text": [
      "train size:  27000000\n",
      "valid size:  3000000\n",
      "test size :  7500000\n"
     ]
    }
   ],
   "source": [
    "test_df = train_df[train_samples:]\n",
    "val_df = train_df[(train_samples-3000000):train_samples]\n",
    "train_df = train_df[:(train_samples-3000000)]\n",
    "\n",
    "print(\"train size: \", len(train_df))\n",
    "print(\"valid size: \", len(val_df))\n",
    "print(\"test size : \", len(test_df))"
   ]
  },
  {
   "cell_type": "code",
   "execution_count": 49,
   "metadata": {},
   "outputs": [],
   "source": [
    "# removed IP from features as the ip has been mainly used to extract new features. \n",
    "target = 'is_attributed'\n",
    "predictors = ['app','device','os', 'channel', 'click_hour',  \n",
    "              'ip_hour_count', 'ip_app_count', 'ip_app_os_count','ip_device_os_count' ]\n",
    "categorical = ['app', 'device', 'os', 'channel', 'click_hour']\n",
    "\n",
    "test_reference = pd.DataFrame()\n",
    "test_reference['click_id'] = test_df['click_id'].astype('int')\n"
   ]
  },
  {
   "cell_type": "code",
   "execution_count": 50,
   "metadata": {},
   "outputs": [
    {
     "name": "stdout",
     "output_type": "stream",
     "text": [
      "Training...\n",
      "preparing validation datasets\n",
      "Training until validation scores don't improve for 30 rounds.\n",
      "[10]\ttrain's auc: 0.948351\tvalid's auc: 0.941501\n",
      "[20]\ttrain's auc: 0.955408\tvalid's auc: 0.946767\n",
      "[30]\ttrain's auc: 0.949315\tvalid's auc: 0.939071\n",
      "[40]\ttrain's auc: 0.956295\tvalid's auc: 0.947097\n",
      "[50]\ttrain's auc: 0.957441\tvalid's auc: 0.947323\n",
      "Early stopping, best iteration is:\n",
      "[27]\ttrain's auc: 0.957111\tvalid's auc: 0.949425\n",
      "\n",
      "Model Report\n",
      "n_estimators :  27\n",
      "auc: 0.9494251674999896\n",
      "[352.81622552871704]: model training time\n"
     ]
    }
   ],
   "source": [
    "import time\n",
    "print(\"Training...\")\n",
    "start_time = time.time()\n",
    "\n",
    "\n",
    "params = {\n",
    "    'learning_rate': 0.15,\n",
    "    'num_leaves': 7,  \n",
    "    'max_depth': 3, \n",
    "    'min_child_samples': 100,  \n",
    "    'max_bin': 100, \n",
    "    'subsample': 0.7,  \n",
    "    'subsample_freq': 1,  \n",
    "    'colsample_bytree': 0.9, \n",
    "    'min_child_weight': 0,  \n",
    "    'scale_pos_weight':99 # because training data is extremely unbalanced \n",
    "}\n",
    "bst = lgb_modelfit(params, \n",
    "                        train_df, \n",
    "                        val_df, \n",
    "                        predictors, \n",
    "                        target, \n",
    "                        objective='binary', \n",
    "                        metrics='auc',\n",
    "                        early_stopping_rounds=30, \n",
    "                        verbose_eval=True, \n",
    "                        num_boost_round=500, \n",
    "                        categorical_features=categorical)\n",
    "\n",
    "print('[{}]: model training time'.format(time.time() - start_time))"
   ]
  },
  {
   "cell_type": "code",
   "execution_count": 53,
   "metadata": {},
   "outputs": [
    {
     "name": "stdout",
     "output_type": "stream",
     "text": [
      "Calculating predictions\n",
      "writing the results to test_predictions.csv\n",
      "Predictions calculated and written into csv file\n"
     ]
    }
   ],
   "source": [
    "print(\"Calculating predictions\")\n",
    "test_reference['is_attributed'] = bst.predict(test_df[predictors])\n",
    "print(\"writing the results to test_predictions.csv\")\n",
    "test_reference.to_csv('test_predictions.csv',index=False)\n",
    "print(\"Predictions calculated and written into csv file\")"
   ]
  },
  {
   "cell_type": "code",
   "execution_count": 57,
   "metadata": {},
   "outputs": [
    {
     "data": {
      "text/html": [
       "<div>\n",
       "<style scoped>\n",
       "    .dataframe tbody tr th:only-of-type {\n",
       "        vertical-align: middle;\n",
       "    }\n",
       "\n",
       "    .dataframe tbody tr th {\n",
       "        vertical-align: top;\n",
       "    }\n",
       "\n",
       "    .dataframe thead th {\n",
       "        text-align: right;\n",
       "    }\n",
       "</style>\n",
       "<table border=\"1\" class=\"dataframe\">\n",
       "  <thead>\n",
       "    <tr style=\"text-align: right;\">\n",
       "      <th></th>\n",
       "      <th>click_id</th>\n",
       "      <th>is_attributed</th>\n",
       "    </tr>\n",
       "  </thead>\n",
       "  <tbody>\n",
       "    <tr>\n",
       "      <th>37499995</th>\n",
       "      <td>18790464</td>\n",
       "      <td>0.784562</td>\n",
       "    </tr>\n",
       "    <tr>\n",
       "      <th>37499996</th>\n",
       "      <td>18790465</td>\n",
       "      <td>0.004350</td>\n",
       "    </tr>\n",
       "    <tr>\n",
       "      <th>37499997</th>\n",
       "      <td>18790467</td>\n",
       "      <td>0.018101</td>\n",
       "    </tr>\n",
       "    <tr>\n",
       "      <th>37499998</th>\n",
       "      <td>18790466</td>\n",
       "      <td>0.781808</td>\n",
       "    </tr>\n",
       "    <tr>\n",
       "      <th>37499999</th>\n",
       "      <td>18790468</td>\n",
       "      <td>0.014060</td>\n",
       "    </tr>\n",
       "  </tbody>\n",
       "</table>\n",
       "</div>"
      ],
      "text/plain": [
       "          click_id  is_attributed\n",
       "37499995  18790464       0.784562\n",
       "37499996  18790465       0.004350\n",
       "37499997  18790467       0.018101\n",
       "37499998  18790466       0.781808\n",
       "37499999  18790468       0.014060"
      ]
     },
     "execution_count": 57,
     "metadata": {},
     "output_type": "execute_result"
    }
   ],
   "source": [
    "test_reference.tail()"
   ]
  },
  {
   "cell_type": "code",
   "execution_count": 59,
   "metadata": {},
   "outputs": [
    {
     "data": {
      "image/png": "[encoded data removed]",
      "text/plain": [
       "<Figure size 432x432 with 1 Axes>"
      ]
     },
     "metadata": {},
     "output_type": "display_data"
    }
   ],
   "source": [
    "plt.figure(figsize=(6,6))\n",
    "#sns.set(font_scale=1.2)\n",
    "mean = (test_reference.is_attributed.values == 1).mean()\n",
    "ax = sns.barplot(['App Downloaded (1)', 'Not Downloaded (0)'], [mean, 1-mean])\n",
    "ax.set(ylabel='Percentage of users', title='Percentage of users with App Downloaded vs Not Downloaded')\n",
    "for p, uniq in zip(ax.patches, [mean, 1-mean]):\n",
    "    height = p.get_height()\n",
    "    ax.text(p.get_x()+p.get_width()/2.,\n",
    "            height+0.01,\n",
    "            '{}%'.format(round(uniq * 100, 2)),\n",
    "            ha=\"center\")"
   ]
  },
  {
   "cell_type": "markdown",
   "metadata": {},
   "source": []
  },
  {
   "cell_type": "code",
   "execution_count": 60,
   "metadata": {},
   "outputs": [
    {
     "data": {
      "text/plain": [
       "<matplotlib.axes._subplots.AxesSubplot at 0x7f4b0aa1ca58>"
      ]
     },
     "execution_count": 60,
     "metadata": {},
     "output_type": "execute_result"
    },
    {
     "data": {
      "image/png": "[encoded data removed]",
      "text/plain": [
       "<Figure size 432x288 with 1 Axes>"
      ]
     },
     "metadata": {},
     "output_type": "display_data"
    }
   ],
   "source": [
    "lgb.plot_importance(bst, importance_type='split')\n"
   ]
  },
  {
   "cell_type": "code",
   "execution_count": null,
   "metadata": {},
   "outputs": [],
   "source": []
  }
 ],
 "metadata": {
  "kernelspec": {
   "display_name": "Python 3",
   "language": "python",
   "name": "python3"
  },
  "language_info": {
   "codemirror_mode": {
    "name": "ipython",
    "version": 3
   },
   "file_extension": ".py",
   "mimetype": "text/x-python",
   "name": "python",
   "nbconvert_exporter": "python",
   "pygments_lexer": "ipython3",
   "version": "3.6.5"
  }
 },
 "nbformat": 4,
 "nbformat_minor": 1
}
